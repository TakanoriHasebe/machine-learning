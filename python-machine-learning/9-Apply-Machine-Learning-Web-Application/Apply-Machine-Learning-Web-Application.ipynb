{
 "cells": [
  {
   "cell_type": "markdown",
   "metadata": {},
   "source": [
    "以下ではWebサービスの予測エンジンとして、機械学習のアプリケーションを組み込む方法を説明する。<br>\n",
    "<ul>\n",
    "<li>トレーニングされた機械学習モデルの現在の状態を保存</li>\n",
    "<li>データストレージとしてSQLiteデータベースを使用</li>\n",
    "<li>人気の高いWebフレームワークFlaskを使ってWebアプリケーションを開発</li>\n",
    "<li>機械学習アプリケーションをパブリックWebサーバーにデプロイ（展開）する</li>\n",
    "</ul>"
   ]
  },
  {
   "cell_type": "markdown",
   "metadata": {},
   "source": [
    "## <font color='blue'>学習済みのscikit-learn推定器をシリアライズする</font>"
   ]
  },
  {
   "cell_type": "markdown",
   "metadata": {},
   "source": [
    "pickleを用いることで、再学習することなく学習済みのモデルを用いることができる。<br>"
   ]
  },
  {
   "cell_type": "code",
   "execution_count": null,
   "metadata": {
    "collapsed": true
   },
   "outputs": [],
   "source": []
  }
 ],
 "metadata": {
  "kernelspec": {
   "display_name": "Python [conda root]",
   "language": "python",
   "name": "conda-root-py"
  },
  "language_info": {
   "codemirror_mode": {
    "name": "ipython",
    "version": 3
   },
   "file_extension": ".py",
   "mimetype": "text/x-python",
   "name": "python",
   "nbconvert_exporter": "python",
   "pygments_lexer": "ipython3",
   "version": "3.5.2"
  }
 },
 "nbformat": 4,
 "nbformat_minor": 2
}
